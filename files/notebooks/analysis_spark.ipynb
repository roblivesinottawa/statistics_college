{
 "cells": [
  {
   "cell_type": "code",
   "execution_count": 1,
   "metadata": {},
   "outputs": [],
   "source": [
    "import findspark\n",
    "findspark.init()"
   ]
  },
  {
   "cell_type": "code",
   "execution_count": 2,
   "metadata": {},
   "outputs": [],
   "source": [
    "from pyspark import SparkContext\n",
    "from pyspark.sql import SparkSession"
   ]
  },
  {
   "cell_type": "code",
   "execution_count": 3,
   "metadata": {},
   "outputs": [
    {
     "name": "stderr",
     "output_type": "stream",
     "text": [
      "Using Spark's default log4j profile: org/apache/spark/log4j-defaults.properties\n",
      "Setting default log level to \"WARN\".\n",
      "To adjust logging level use sc.setLogLevel(newLevel). For SparkR, use setLogLevel(newLevel).\n",
      "22/03/30 19:45:51 WARN NativeCodeLoader: Unable to load native-hadoop library for your platform... using builtin-java classes where applicable\n",
      "22/03/30 19:45:53 WARN Utils: Service 'SparkUI' could not bind on port 4040. Attempting port 4041.\n",
      "22/03/30 19:45:53 WARN Utils: Service 'SparkUI' could not bind on port 4041. Attempting port 4042.\n",
      "22/03/30 19:45:53 WARN Utils: Service 'SparkUI' could not bind on port 4042. Attempting port 4043.\n",
      "22/03/30 19:45:53 WARN Utils: Service 'SparkUI' could not bind on port 4043. Attempting port 4044.\n"
     ]
    },
    {
     "data": {
      "text/html": [
       "\n",
       "        <div>\n",
       "            <p><b>SparkContext</b></p>\n",
       "\n",
       "            <p><a href=\"http://robsons-imac.lan:4044\">Spark UI</a></p>\n",
       "\n",
       "            <dl>\n",
       "              <dt>Version</dt>\n",
       "                <dd><code>v3.2.1</code></dd>\n",
       "              <dt>Master</dt>\n",
       "                <dd><code>local[*]</code></dd>\n",
       "              <dt>AppName</dt>\n",
       "                <dd><code>pyspark-shell</code></dd>\n",
       "            </dl>\n",
       "        </div>\n",
       "        "
      ],
      "text/plain": [
       "<SparkContext master=local[*] appName=pyspark-shell>"
      ]
     },
     "execution_count": 3,
     "metadata": {},
     "output_type": "execute_result"
    }
   ],
   "source": [
    "sc = SparkContext()\n",
    "sc"
   ]
  },
  {
   "cell_type": "code",
   "execution_count": 4,
   "metadata": {},
   "outputs": [
    {
     "data": {
      "text/html": [
       "\n",
       "            <div>\n",
       "                <p><b>SparkSession - in-memory</b></p>\n",
       "                \n",
       "        <div>\n",
       "            <p><b>SparkContext</b></p>\n",
       "\n",
       "            <p><a href=\"http://robsons-imac.lan:4044\">Spark UI</a></p>\n",
       "\n",
       "            <dl>\n",
       "              <dt>Version</dt>\n",
       "                <dd><code>v3.2.1</code></dd>\n",
       "              <dt>Master</dt>\n",
       "                <dd><code>local[*]</code></dd>\n",
       "              <dt>AppName</dt>\n",
       "                <dd><code>pyspark-shell</code></dd>\n",
       "            </dl>\n",
       "        </div>\n",
       "        \n",
       "            </div>\n",
       "        "
      ],
      "text/plain": [
       "<pyspark.sql.session.SparkSession at 0x7f84b3d0f490>"
      ]
     },
     "execution_count": 4,
     "metadata": {},
     "output_type": "execute_result"
    }
   ],
   "source": [
    "spark = SparkSession.builder.appName(\"Python Spark SQL basic example\").getOrCreate()\n",
    "spark"
   ]
  },
  {
   "cell_type": "markdown",
   "metadata": {},
   "source": [
    "ANALYSIS OF PLANETS"
   ]
  },
  {
   "cell_type": "code",
   "execution_count": 5,
   "metadata": {},
   "outputs": [],
   "source": [
    "df = spark.read.format(\"csv\") \\\n",
    "                .option(\"header\", \"true\") \\\n",
    "                .load(\"/Users/rob_the_programmer/Documents/programming/2022/statistics/statistics-python-workspace/files/other_formats/Planets_cleaned.csv\")\n",
    "                \n"
   ]
  },
  {
   "cell_type": "code",
   "execution_count": 6,
   "metadata": {},
   "outputs": [
    {
     "name": "stdout",
     "output_type": "stream",
     "text": [
      "+---+--------+-----------------+-------------+---------------------+--------------------------+---------------------+-----------------------+--------------------+-----------------------+---------------+------------+----------------------+------------------+------------------------+\n",
      "|_c0|  Planet|Mass   (10^24 kg)|Diameter (km)|Length of Day (hours)|Distance from Sun (106 km)|Orbital Period (days)|Orbital Velocity (km/s)|Mean Temperature (C)|Surface Pressure (bars)|Number of Moons|Ring System?|Global Magnetic Field?|Day of first visit|First successful mission|\n",
      "+---+--------+-----------------+-------------+---------------------+--------------------------+---------------------+-----------------------+--------------------+-----------------------+---------------+------------+----------------------+------------------+------------------------+\n",
      "|  0|MERCURY |             0.33|         4879|               4222.6|                      57.9|                 88.0|                   47.4|                 167|                      0|              0|          No|                   Yes|        1974-03-29|              Mariner 10|\n",
      "|  1|  VENUS |             4.87|        12104|               2802.0|                     108.2|                224.7|                   35.0|                 464|                     92|              0|          No|                    No|        1962-08-27|               Mariner 2|\n",
      "|  2|  EARTH |             5.97|        12756|                 24.0|                     149.6|                365.2|                   29.8|                  15|                      1|              1|          No|                   Yes|              null|                    null|\n",
      "|  3|   MOON |            0.073|         3475|                708.7|                    0.384*|                 27.3|                    1.0|                 -20|                      0|              0|          No|                    No|        1959-09-12|                  Luna 2|\n",
      "|  4|   MARS |            0.642|         6792|                 24.7|                     227.9|                687.0|                   24.1|                 -65|                   0.01|              2|          No|                    No|        1965-07-15|               Mariner 4|\n",
      "|  5|JUPITER |           1898.0|       142984|                  9.9|                     778.6|               4331.0|                   13.1|                -110|               Unknown*|             67|         Yes|                   Yes|        1973-12-04|              Pioneer 10|\n",
      "|  6| SATURN |            568.0|       120536|                 10.7|                    1433.5|              10747.0|                    9.7|                -140|               Unknown*|             62|         Yes|                   Yes|        1979-09-01|              Pioneer 11|\n",
      "|  7| URANUS |             86.8|        51118|                 17.2|                    2872.5|              30589.0|                    6.8|                -195|               Unknown*|             27|         Yes|                   Yes|        1986-01-24|               Voyager 2|\n",
      "|  8|NEPTUNE |            102.0|        49528|                 16.1|                    4495.1|              59800.0|                    5.4|                -200|               Unknown*|             14|         Yes|                   Yes|        1989-08-25|               Voyager 2|\n",
      "|  9|   PLUTO|           0.0146|         2370|                153.3|                    5906.4|              90560.0|                    4.7|                -225|                  1e-05|              5|          No|               Unknown|        2015-07-14|            New Horizons|\n",
      "+---+--------+-----------------+-------------+---------------------+--------------------------+---------------------+-----------------------+--------------------+-----------------------+---------------+------------+----------------------+------------------+------------------------+\n",
      "\n"
     ]
    },
    {
     "name": "stderr",
     "output_type": "stream",
     "text": [
      "22/03/30 19:46:03 WARN CSVHeaderChecker: CSV header does not conform to the schema.\n",
      " Header: , Planet, Mass   (10^24 kg), Diameter (km), Length of Day (hours), Distance from Sun (106 km), Orbital Period (days), Orbital Velocity (km/s), Mean Temperature (C), Surface Pressure (bars), Number of Moons, Ring System?, Global Magnetic Field?, Day of first visit, First successful mission\n",
      " Schema: _c0, Planet, Mass   (10^24 kg), Diameter (km), Length of Day (hours), Distance from Sun (106 km), Orbital Period (days), Orbital Velocity (km/s), Mean Temperature (C), Surface Pressure (bars), Number of Moons, Ring System?, Global Magnetic Field?, Day of first visit, First successful mission\n",
      "Expected: _c0 but found: \n",
      "CSV file: file:///Users/rob_the_programmer/Documents/programming/2022/statistics/statistics-python-workspace/files/other_formats/Planets_cleaned.csv\n"
     ]
    }
   ],
   "source": [
    "df.show(10)"
   ]
  },
  {
   "cell_type": "code",
   "execution_count": 7,
   "metadata": {},
   "outputs": [
    {
     "name": "stdout",
     "output_type": "stream",
     "text": [
      "root\n",
      " |-- _c0: string (nullable = true)\n",
      " |-- Planet: string (nullable = true)\n",
      " |-- Mass   (10^24 kg): string (nullable = true)\n",
      " |-- Diameter (km): string (nullable = true)\n",
      " |-- Length of Day (hours): string (nullable = true)\n",
      " |-- Distance from Sun (106 km): string (nullable = true)\n",
      " |-- Orbital Period (days): string (nullable = true)\n",
      " |-- Orbital Velocity (km/s): string (nullable = true)\n",
      " |-- Mean Temperature (C): string (nullable = true)\n",
      " |-- Surface Pressure (bars): string (nullable = true)\n",
      " |-- Number of Moons: string (nullable = true)\n",
      " |-- Ring System?: string (nullable = true)\n",
      " |-- Global Magnetic Field?: string (nullable = true)\n",
      " |-- Day of first visit: string (nullable = true)\n",
      " |-- First successful mission: string (nullable = true)\n",
      "\n"
     ]
    }
   ],
   "source": [
    "df.printSchema()"
   ]
  },
  {
   "cell_type": "code",
   "execution_count": 8,
   "metadata": {},
   "outputs": [
    {
     "data": {
      "text/plain": [
       "['_c0',\n",
       " 'Planet',\n",
       " 'Mass   (10^24 kg)',\n",
       " 'Diameter (km)',\n",
       " 'Length of Day\\xa0(hours)',\n",
       " 'Distance from Sun (106\\xa0km)',\n",
       " 'Orbital Period (days)',\n",
       " 'Orbital Velocity\\xa0(km/s)',\n",
       " 'Mean Temperature\\xa0(C)',\n",
       " 'Surface Pressure\\xa0(bars)',\n",
       " 'Number of Moons',\n",
       " 'Ring System?',\n",
       " 'Global Magnetic Field?',\n",
       " 'Day of first visit',\n",
       " 'First successful mission']"
      ]
     },
     "execution_count": 8,
     "metadata": {},
     "output_type": "execute_result"
    }
   ],
   "source": [
    "df.columns"
   ]
  },
  {
   "cell_type": "code",
   "execution_count": 9,
   "metadata": {},
   "outputs": [],
   "source": [
    "df = df.drop('_c0')"
   ]
  },
  {
   "cell_type": "code",
   "execution_count": 10,
   "metadata": {},
   "outputs": [
    {
     "data": {
      "text/plain": [
       "['Planet',\n",
       " 'Mass   (10^24 kg)',\n",
       " 'Diameter (km)',\n",
       " 'Length of Day\\xa0(hours)',\n",
       " 'Distance from Sun (106\\xa0km)',\n",
       " 'Orbital Period (days)',\n",
       " 'Orbital Velocity\\xa0(km/s)',\n",
       " 'Mean Temperature\\xa0(C)',\n",
       " 'Surface Pressure\\xa0(bars)',\n",
       " 'Number of Moons',\n",
       " 'Ring System?',\n",
       " 'Global Magnetic Field?',\n",
       " 'Day of first visit',\n",
       " 'First successful mission']"
      ]
     },
     "execution_count": 10,
     "metadata": {},
     "output_type": "execute_result"
    }
   ],
   "source": [
    "df.columns"
   ]
  },
  {
   "cell_type": "code",
   "execution_count": 11,
   "metadata": {},
   "outputs": [
    {
     "name": "stdout",
     "output_type": "stream",
     "text": [
      "+--------+-----------------+-------------+---------------------+--------------------------+---------------------+-----------------------+--------------------+-----------------------+---------------+------------+----------------------+------------------+------------------------+\n",
      "|  Planet|Mass   (10^24 kg)|Diameter (km)|Length of Day (hours)|Distance from Sun (106 km)|Orbital Period (days)|Orbital Velocity (km/s)|Mean Temperature (C)|Surface Pressure (bars)|Number of Moons|Ring System?|Global Magnetic Field?|Day of first visit|First successful mission|\n",
      "+--------+-----------------+-------------+---------------------+--------------------------+---------------------+-----------------------+--------------------+-----------------------+---------------+------------+----------------------+------------------+------------------------+\n",
      "|MERCURY |             0.33|         4879|               4222.6|                      57.9|                 88.0|                   47.4|                 167|                      0|              0|          No|                   Yes|        1974-03-29|              Mariner 10|\n",
      "+--------+-----------------+-------------+---------------------+--------------------------+---------------------+-----------------------+--------------------+-----------------------+---------------+------------+----------------------+------------------+------------------------+\n",
      "only showing top 1 row\n",
      "\n"
     ]
    }
   ],
   "source": [
    "df.show(1)"
   ]
  },
  {
   "cell_type": "code",
   "execution_count": 12,
   "metadata": {},
   "outputs": [
    {
     "data": {
      "text/plain": [
       "['Planet',\n",
       " 'Mass   (10^24 kg)',\n",
       " 'Diameter (km)',\n",
       " 'Length of Day\\xa0(hours)',\n",
       " 'Distance from Sun (106\\xa0km)',\n",
       " 'Orbital Period (days)',\n",
       " 'Orbital Velocity\\xa0(km/s)',\n",
       " 'Mean Temperature\\xa0(C)',\n",
       " 'Surface Pressure\\xa0(bars)',\n",
       " 'Number of Moons',\n",
       " 'Ring System?',\n",
       " 'Global Magnetic Field?',\n",
       " 'Day of first visit',\n",
       " 'First successful mission']"
      ]
     },
     "execution_count": 12,
     "metadata": {},
     "output_type": "execute_result"
    }
   ],
   "source": [
    "df.columns"
   ]
  },
  {
   "cell_type": "code",
   "execution_count": 13,
   "metadata": {},
   "outputs": [],
   "source": [
    "df = df.withColumnRenamed('Mass   (10^24 kg)', 'Mass') \\\n",
    "    .withColumnRenamed('Diameter (km)', 'Diameter') \\\n",
    "    .withColumnRenamed('Length of Day\\xa0(hours)', 'DayLength') \\\n",
    "    .withColumnRenamed('Distance from Sun (106\\xa0km)', 'SunDistance') \\\n",
    "    .withColumnRenamed('Orbital Period (days)', 'OrbitPeriod') \\\n",
    "    .withColumnRenamed('Orbital Velocity\\xa0(km/s)', 'OrbitVelocity') \\\n",
    "    .withColumnRenamed('Mean Temperature\\xa0(C)', 'MeanTemperature') \\\n",
    "    .withColumnRenamed('Surface Pressure\\xa0(bars)', 'SurfacePressure') \\\n",
    "    .withColumnRenamed('Number of Moons', 'Moons') \\\n",
    "    .withColumnRenamed('Ring System?', 'Rings') \\\n",
    "    .withColumnRenamed('Global Magnetic Field?', 'MagneticField') \\\n",
    "    .withColumnRenamed('Day of first visit', 'FirstVisited') \\\n",
    "    .withColumnRenamed('First successful mission', 'FirstMission') \n",
    "    "
   ]
  },
  {
   "cell_type": "code",
   "execution_count": 14,
   "metadata": {},
   "outputs": [
    {
     "data": {
      "text/plain": [
       "['Planet',\n",
       " 'Mass',\n",
       " 'Diameter',\n",
       " 'DayLength',\n",
       " 'SunDistance',\n",
       " 'OrbitPeriod',\n",
       " 'OrbitVelocity',\n",
       " 'MeanTemperature',\n",
       " 'SurfacePressure',\n",
       " 'Moons',\n",
       " 'Rings',\n",
       " 'MagneticField',\n",
       " 'FirstVisited',\n",
       " 'FirstMission']"
      ]
     },
     "execution_count": 14,
     "metadata": {},
     "output_type": "execute_result"
    }
   ],
   "source": [
    "df.columns"
   ]
  },
  {
   "cell_type": "code",
   "execution_count": 15,
   "metadata": {},
   "outputs": [
    {
     "name": "stdout",
     "output_type": "stream",
     "text": [
      "+--------+----+--------+---------+-----------+-----------+-------------+---------------+---------------+-----+-----+-------------+------------+------------+\n",
      "|  Planet|Mass|Diameter|DayLength|SunDistance|OrbitPeriod|OrbitVelocity|MeanTemperature|SurfacePressure|Moons|Rings|MagneticField|FirstVisited|FirstMission|\n",
      "+--------+----+--------+---------+-----------+-----------+-------------+---------------+---------------+-----+-----+-------------+------------+------------+\n",
      "|MERCURY |0.33|    4879|   4222.6|       57.9|       88.0|         47.4|            167|              0|    0|   No|          Yes|  1974-03-29|  Mariner 10|\n",
      "+--------+----+--------+---------+-----------+-----------+-------------+---------------+---------------+-----+-----+-------------+------------+------------+\n",
      "only showing top 1 row\n",
      "\n"
     ]
    }
   ],
   "source": [
    "df.show(1)"
   ]
  },
  {
   "cell_type": "code",
   "execution_count": 16,
   "metadata": {},
   "outputs": [],
   "source": [
    "df.createOrReplaceTempView(\"planets\")"
   ]
  },
  {
   "cell_type": "code",
   "execution_count": 17,
   "metadata": {},
   "outputs": [
    {
     "name": "stdout",
     "output_type": "stream",
     "text": [
      "+--------+----+--------+---------+-----------+-----------+-------------+---------------+---------------+-----+-----+-------------+------------+------------+\n",
      "|  Planet|Mass|Diameter|DayLength|SunDistance|OrbitPeriod|OrbitVelocity|MeanTemperature|SurfacePressure|Moons|Rings|MagneticField|FirstVisited|FirstMission|\n",
      "+--------+----+--------+---------+-----------+-----------+-------------+---------------+---------------+-----+-----+-------------+------------+------------+\n",
      "|MERCURY |0.33|    4879|   4222.6|       57.9|       88.0|         47.4|            167|              0|    0|   No|          Yes|  1974-03-29|  Mariner 10|\n",
      "|  VENUS |4.87|   12104|   2802.0|      108.2|      224.7|         35.0|            464|             92|    0|   No|           No|  1962-08-27|   Mariner 2|\n",
      "|  EARTH |5.97|   12756|     24.0|      149.6|      365.2|         29.8|             15|              1|    1|   No|          Yes|        null|        null|\n",
      "+--------+----+--------+---------+-----------+-----------+-------------+---------------+---------------+-----+-----+-------------+------------+------------+\n",
      "only showing top 3 rows\n",
      "\n"
     ]
    }
   ],
   "source": [
    "spark.sql('select * from planets').show(3)"
   ]
  },
  {
   "cell_type": "code",
   "execution_count": 18,
   "metadata": {},
   "outputs": [
    {
     "data": {
      "text/plain": [
       "['Planet',\n",
       " 'Mass',\n",
       " 'Diameter',\n",
       " 'DayLength',\n",
       " 'SunDistance',\n",
       " 'OrbitPeriod',\n",
       " 'OrbitVelocity',\n",
       " 'MeanTemperature',\n",
       " 'SurfacePressure',\n",
       " 'Moons',\n",
       " 'Rings',\n",
       " 'MagneticField',\n",
       " 'FirstVisited',\n",
       " 'FirstMission']"
      ]
     },
     "execution_count": 18,
     "metadata": {},
     "output_type": "execute_result"
    }
   ],
   "source": [
    "df.columns"
   ]
  },
  {
   "cell_type": "code",
   "execution_count": 19,
   "metadata": {},
   "outputs": [
    {
     "name": "stdout",
     "output_type": "stream",
     "text": [
      "+--------+\n",
      "|  Planet|\n",
      "+--------+\n",
      "|MERCURY |\n",
      "|  VENUS |\n",
      "|  EARTH |\n",
      "|   MOON |\n",
      "|   MARS |\n",
      "|JUPITER |\n",
      "| SATURN |\n",
      "| URANUS |\n",
      "|NEPTUNE |\n",
      "|   PLUTO|\n",
      "+--------+\n",
      "\n"
     ]
    }
   ],
   "source": [
    "# get info on planet Mercury\n",
    "spark.sql(\"select Planet from planets\").show()"
   ]
  },
  {
   "cell_type": "code",
   "execution_count": 20,
   "metadata": {},
   "outputs": [
    {
     "name": "stdout",
     "output_type": "stream",
     "text": [
      "+---------+---------+-----------+\n",
      "|namespace|tableName|isTemporary|\n",
      "+---------+---------+-----------+\n",
      "|         |  planets|       true|\n",
      "+---------+---------+-----------+\n",
      "\n"
     ]
    }
   ],
   "source": [
    "spark.sql('show tables').show()"
   ]
  },
  {
   "cell_type": "code",
   "execution_count": 21,
   "metadata": {},
   "outputs": [
    {
     "name": "stdout",
     "output_type": "stream",
     "text": [
      "+--------+------+--------+---------+\n",
      "|  Planet|  Mass|Diameter|DayLength|\n",
      "+--------+------+--------+---------+\n",
      "|MERCURY |  0.33|    4879|   4222.6|\n",
      "|  VENUS |  4.87|   12104|   2802.0|\n",
      "|  EARTH |  5.97|   12756|     24.0|\n",
      "|   MOON | 0.073|    3475|    708.7|\n",
      "|   MARS | 0.642|    6792|     24.7|\n",
      "|JUPITER |1898.0|  142984|      9.9|\n",
      "| SATURN | 568.0|  120536|     10.7|\n",
      "| URANUS |  86.8|   51118|     17.2|\n",
      "|NEPTUNE | 102.0|   49528|     16.1|\n",
      "|   PLUTO|0.0146|    2370|    153.3|\n",
      "+--------+------+--------+---------+\n",
      "\n"
     ]
    }
   ],
   "source": [
    "spark.sql('select Planet, Mass, Diameter, DayLength from planets').show()"
   ]
  },
  {
   "cell_type": "code",
   "execution_count": 22,
   "metadata": {},
   "outputs": [
    {
     "name": "stdout",
     "output_type": "stream",
     "text": [
      "+-------------+\n",
      "|count(Planet)|\n",
      "+-------------+\n",
      "|           10|\n",
      "+-------------+\n",
      "\n"
     ]
    }
   ],
   "source": [
    "spark.sql('select count(Planet) from planets').show()"
   ]
  },
  {
   "cell_type": "code",
   "execution_count": 23,
   "metadata": {},
   "outputs": [
    {
     "name": "stdout",
     "output_type": "stream",
     "text": [
      "+------+\n",
      "|  Mass|\n",
      "+------+\n",
      "|  0.33|\n",
      "|  4.87|\n",
      "|  5.97|\n",
      "| 0.073|\n",
      "| 0.642|\n",
      "|1898.0|\n",
      "| 568.0|\n",
      "|  86.8|\n",
      "| 102.0|\n",
      "|0.0146|\n",
      "+------+\n",
      "\n"
     ]
    }
   ],
   "source": [
    "spark.sql('select Mass from planets').show()"
   ]
  },
  {
   "cell_type": "code",
   "execution_count": 24,
   "metadata": {},
   "outputs": [
    {
     "name": "stdout",
     "output_type": "stream",
     "text": [
      "+---------+\n",
      "|max(Mass)|\n",
      "+---------+\n",
      "|     86.8|\n",
      "+---------+\n",
      "\n"
     ]
    }
   ],
   "source": [
    "spark.sql('select max(Mass) from planets order by 1').show()"
   ]
  },
  {
   "cell_type": "code",
   "execution_count": 25,
   "metadata": {},
   "outputs": [
    {
     "name": "stdout",
     "output_type": "stream",
     "text": [
      "+---------+\n",
      "|min(Mass)|\n",
      "+---------+\n",
      "|   0.0146|\n",
      "+---------+\n",
      "\n"
     ]
    }
   ],
   "source": [
    "spark.sql('select min(Mass) from planets order by 1').show()"
   ]
  },
  {
   "cell_type": "code",
   "execution_count": 26,
   "metadata": {},
   "outputs": [
    {
     "name": "stderr",
     "output_type": "stream",
     "text": [
      "                                                                                \r"
     ]
    },
    {
     "data": {
      "text/plain": [
       "DataFrame[summary: string, Planet: string, Mass: string, Diameter: string, DayLength: string, SunDistance: string, OrbitPeriod: string, OrbitVelocity: string, MeanTemperature: string, SurfacePressure: string, Moons: string, Rings: string, MagneticField: string, FirstVisited: string, FirstMission: string]"
      ]
     },
     "execution_count": 26,
     "metadata": {},
     "output_type": "execute_result"
    }
   ],
   "source": [
    "df.describe()"
   ]
  },
  {
   "cell_type": "code",
   "execution_count": 27,
   "metadata": {},
   "outputs": [
    {
     "data": {
      "text/plain": [
       "14"
      ]
     },
     "execution_count": 27,
     "metadata": {},
     "output_type": "execute_result"
    }
   ],
   "source": [
    "len(df.columns)"
   ]
  },
  {
   "cell_type": "code",
   "execution_count": 28,
   "metadata": {},
   "outputs": [
    {
     "name": "stdout",
     "output_type": "stream",
     "text": [
      "+--------+------------+\n",
      "|  Planet|FirstVisited|\n",
      "+--------+------------+\n",
      "|MERCURY |  1974-03-29|\n",
      "|  VENUS |  1962-08-27|\n",
      "|  EARTH |        null|\n",
      "|   MOON |  1959-09-12|\n",
      "|   MARS |  1965-07-15|\n",
      "|JUPITER |  1973-12-04|\n",
      "| SATURN |  1979-09-01|\n",
      "| URANUS |  1986-01-24|\n",
      "|NEPTUNE |  1989-08-25|\n",
      "|   PLUTO|  2015-07-14|\n",
      "+--------+------------+\n",
      "\n"
     ]
    }
   ],
   "source": [
    "spark.sql('select Planet, FirstVisited from planets').show()"
   ]
  },
  {
   "cell_type": "code",
   "execution_count": 29,
   "metadata": {},
   "outputs": [
    {
     "data": {
      "text/plain": [
       "pyspark.sql.dataframe.DataFrame"
      ]
     },
     "execution_count": 29,
     "metadata": {},
     "output_type": "execute_result"
    }
   ],
   "source": [
    "type(df)"
   ]
  },
  {
   "cell_type": "code",
   "execution_count": 30,
   "metadata": {},
   "outputs": [
    {
     "name": "stdout",
     "output_type": "stream",
     "text": [
      "+--------------+\n",
      "|current_date()|\n",
      "+--------------+\n",
      "|    2022-03-30|\n",
      "+--------------+\n",
      "\n"
     ]
    }
   ],
   "source": [
    "spark.sql(\"select current_date()\").show()"
   ]
  },
  {
   "cell_type": "code",
   "execution_count": 31,
   "metadata": {},
   "outputs": [
    {
     "name": "stdout",
     "output_type": "stream",
     "text": [
      "+--------+----+--------+---------+-----------+-----------+-------------+---------------+---------------+-----+-----+-------------+------------+------------+\n",
      "|  Planet|Mass|Diameter|DayLength|SunDistance|OrbitPeriod|OrbitVelocity|MeanTemperature|SurfacePressure|Moons|Rings|MagneticField|FirstVisited|FirstMission|\n",
      "+--------+----+--------+---------+-----------+-----------+-------------+---------------+---------------+-----+-----+-------------+------------+------------+\n",
      "|MERCURY |0.33|    4879|   4222.6|       57.9|       88.0|         47.4|            167|              0|    0|   No|          Yes|  1974-03-29|  Mariner 10|\n",
      "+--------+----+--------+---------+-----------+-----------+-------------+---------------+---------------+-----+-----+-------------+------------+------------+\n",
      "only showing top 1 row\n",
      "\n"
     ]
    }
   ],
   "source": [
    "df.show(1)"
   ]
  },
  {
   "cell_type": "code",
   "execution_count": 32,
   "metadata": {},
   "outputs": [
    {
     "name": "stdout",
     "output_type": "stream",
     "text": [
      "+--------+\n",
      "|Diameter|\n",
      "+--------+\n",
      "+--------+\n",
      "\n"
     ]
    }
   ],
   "source": [
    "# what is the diamter of plabet Earth?\n",
    "spark.sql(\"select Diameter from planets where Planet = 'Earth'\").show()"
   ]
  },
  {
   "cell_type": "markdown",
   "metadata": {},
   "source": [
    "BILLBOARD ANALYSIS"
   ]
  },
  {
   "cell_type": "code",
   "execution_count": 33,
   "metadata": {},
   "outputs": [],
   "source": [
    "billboard = spark.read.csv('/Users/rob_the_programmer/Documents/programming/2022/statistics/statistics-python-workspace/files/other_formats/billboard.csv', header=True)\n"
   ]
  },
  {
   "cell_type": "code",
   "execution_count": 34,
   "metadata": {},
   "outputs": [
    {
     "name": "stderr",
     "output_type": "stream",
     "text": [
      "22/03/30 19:52:28 WARN package: Truncated the string representation of a plan since it was too large. This behavior can be adjusted by setting 'spark.sql.debug.maxToStringFields'.\n"
     ]
    },
    {
     "name": "stdout",
     "output_type": "stream",
     "text": [
      "+----+-------------------+--------------------+----+-----+------------+-----------+---------+---------+---------+---------+---------+---------+---------+---------+---------+----------+----------+----------+----------+----------+----------+----------+----------+----------+----------+----------+----------+----------+----------+----------+----------+----------+----------+----------+----------+----------+----------+----------+----------+----------+----------+----------+----------+----------+----------+----------+----------+----------+----------+----------+----------+----------+----------+----------+----------+----------+----------+----------+----------+----------+----------+----------+----------+----------+----------+----------+----------+----------+----------+----------+----------+----------+----------+----------+----------+----------+----------+----------+----------+----------+----------+----------+\n",
      "|year|    artist.inverted|               track|time|genre|date.entered|date.peaked|x1st.week|x2nd.week|x3rd.week|x4th.week|x5th.week|x6th.week|x7th.week|x8th.week|x9th.week|x10th.week|x11th.week|x12th.week|x13th.week|x14th.week|x15th.week|x16th.week|x17th.week|x18th.week|x19th.week|x20th.week|x21st.week|x22nd.week|x23rd.week|x24th.week|x25th.week|x26th.week|x27th.week|x28th.week|x29th.week|x30th.week|x31st.week|x32nd.week|x33rd.week|x34th.week|x35th.week|x36th.week|x37th.week|x38th.week|x39th.week|x40th.week|x41st.week|x42nd.week|x43rd.week|x44th.week|x45th.week|x46th.week|x47th.week|x48th.week|x49th.week|x50th.week|x51st.week|x52nd.week|x53rd.week|x54th.week|x55th.week|x56th.week|x57th.week|x58th.week|x59th.week|x60th.week|x61st.week|x62nd.week|x63rd.week|x64th.week|x65th.week|x66th.week|x67th.week|x68th.week|x69th.week|x70th.week|x71st.week|x72nd.week|x73rd.week|x74th.week|x75th.week|x76th.week|\n",
      "+----+-------------------+--------------------+----+-----+------------+-----------+---------+---------+---------+---------+---------+---------+---------+---------+---------+----------+----------+----------+----------+----------+----------+----------+----------+----------+----------+----------+----------+----------+----------+----------+----------+----------+----------+----------+----------+----------+----------+----------+----------+----------+----------+----------+----------+----------+----------+----------+----------+----------+----------+----------+----------+----------+----------+----------+----------+----------+----------+----------+----------+----------+----------+----------+----------+----------+----------+----------+----------+----------+----------+----------+----------+----------+----------+----------+----------+----------+----------+----------+----------+----------+----------+----------+\n",
      "|2000|    Destiny's Child|Independent Women...|3:38| Rock|  2000-09-23| 2000-11-18|       78|       63|       49|       33|       23|       15|        7|        5|        1|         1|         1|         1|         1|         1|         1|         1|         1|         1|         1|         2|         3|         7|        10|        12|        15|        22|        29|        31|        NA|        NA|        NA|        NA|        NA|        NA|        NA|        NA|        NA|        NA|        NA|        NA|        NA|        NA|        NA|        NA|        NA|        NA|        NA|        NA|        NA|        NA|        NA|        NA|        NA|        NA|        NA|        NA|        NA|        NA|        NA|        NA|        NA|        NA|        NA|        NA|        NA|        NA|        NA|        NA|        NA|        NA|        NA|        NA|        NA|        NA|        NA|        NA|\n",
      "|2000|            Santana|        Maria, Maria|4:18| Rock|  2000-02-12| 2000-04-08|       15|        8|        6|        5|        2|        3|        2|        2|        1|         1|         1|         1|         1|         1|         1|         1|         1|         1|         8|        15|        19|        21|        26|        36|        48|        47|      null|        NA|        NA|        NA|        NA|        NA|        NA|        NA|        NA|        NA|        NA|        NA|        NA|        NA|        NA|        NA|        NA|        NA|        NA|        NA|        NA|        NA|        NA|        NA|        NA|        NA|        NA|        NA|        NA|        NA|        NA|        NA|        NA|        NA|        NA|        NA|        NA|        NA|        NA|        NA|        NA|        NA|        NA|        NA|        NA|        NA|        NA|        NA|        NA|        NA|\n",
      "|2000|      Savage Garden|  I Knew I Loved You|4:07| Rock|  1999-10-23| 2000-01-29|       71|       48|       43|       31|       20|       13|        7|        6|        4|         4|         4|         6|         4|         2|         1|         1|         1|         2|         1|         2|         4|         8|         8|        12|        14|        17|        21|        24|        30|        34|        37|        46|        47|        NA|        NA|        NA|        NA|        NA|        NA|        NA|        NA|        NA|        NA|        NA|        NA|        NA|        NA|        NA|        NA|        NA|        NA|        NA|        NA|        NA|        NA|        NA|        NA|        NA|        NA|        NA|        NA|        NA|        NA|        NA|        NA|        NA|        NA|        NA|        NA|        NA|        NA|        NA|        NA|        NA|        NA|        NA|\n",
      "|2000|            Madonna|               Music|3:45| Rock|  2000-08-12| 2000-09-16|       41|       23|       18|       14|        2|        1|        1|        1|        1|         2|         2|         2|         2|         2|         4|         8|        11|        16|        20|        25|        27|        27|        29|        44|      null|      null|      null|        NA|        NA|        NA|        NA|        NA|        NA|        NA|        NA|        NA|        NA|        NA|        NA|        NA|        NA|        NA|        NA|        NA|        NA|        NA|        NA|        NA|        NA|        NA|        NA|        NA|        NA|        NA|        NA|        NA|        NA|        NA|        NA|        NA|        NA|        NA|        NA|        NA|        NA|        NA|        NA|        NA|        NA|        NA|        NA|        NA|        NA|        NA|        NA|        NA|\n",
      "|2000|Aguilera, Christina|Come On Over Baby...|3:38| Rock|  2000-08-05| 2000-10-14|       57|       47|       45|       29|       23|       18|       11|        9|        9|        11|         1|         1|         1|         1|         4|         8|        12|        22|        23|        43|        44|        NA|        NA|        NA|      null|      null|      null|        NA|        NA|        NA|        NA|        NA|        NA|        NA|        NA|        NA|        NA|        NA|        NA|        NA|        NA|        NA|        NA|        NA|        NA|        NA|        NA|        NA|        NA|        NA|        NA|        NA|        NA|        NA|        NA|        NA|        NA|        NA|        NA|        NA|        NA|        NA|        NA|        NA|        NA|        NA|        NA|        NA|        NA|        NA|        NA|        NA|        NA|        NA|        NA|        NA|\n",
      "+----+-------------------+--------------------+----+-----+------------+-----------+---------+---------+---------+---------+---------+---------+---------+---------+---------+----------+----------+----------+----------+----------+----------+----------+----------+----------+----------+----------+----------+----------+----------+----------+----------+----------+----------+----------+----------+----------+----------+----------+----------+----------+----------+----------+----------+----------+----------+----------+----------+----------+----------+----------+----------+----------+----------+----------+----------+----------+----------+----------+----------+----------+----------+----------+----------+----------+----------+----------+----------+----------+----------+----------+----------+----------+----------+----------+----------+----------+----------+----------+----------+----------+----------+----------+\n",
      "only showing top 5 rows\n",
      "\n"
     ]
    }
   ],
   "source": [
    "billboard.show(5)"
   ]
  },
  {
   "cell_type": "code",
   "execution_count": 36,
   "metadata": {},
   "outputs": [
    {
     "data": {
      "text/plain": [
       "['year',\n",
       " 'artist.inverted',\n",
       " 'track',\n",
       " 'time',\n",
       " 'genre',\n",
       " 'date.entered',\n",
       " 'date.peaked',\n",
       " 'x1st.week',\n",
       " 'x2nd.week',\n",
       " 'x3rd.week',\n",
       " 'x4th.week',\n",
       " 'x5th.week',\n",
       " 'x6th.week',\n",
       " 'x7th.week',\n",
       " 'x8th.week',\n",
       " 'x9th.week',\n",
       " 'x10th.week',\n",
       " 'x11th.week',\n",
       " 'x12th.week',\n",
       " 'x13th.week',\n",
       " 'x14th.week',\n",
       " 'x15th.week',\n",
       " 'x16th.week',\n",
       " 'x17th.week',\n",
       " 'x18th.week',\n",
       " 'x19th.week',\n",
       " 'x20th.week',\n",
       " 'x21st.week',\n",
       " 'x22nd.week',\n",
       " 'x23rd.week',\n",
       " 'x24th.week',\n",
       " 'x25th.week',\n",
       " 'x26th.week',\n",
       " 'x27th.week',\n",
       " 'x28th.week',\n",
       " 'x29th.week',\n",
       " 'x30th.week',\n",
       " 'x31st.week',\n",
       " 'x32nd.week',\n",
       " 'x33rd.week',\n",
       " 'x34th.week',\n",
       " 'x35th.week',\n",
       " 'x36th.week',\n",
       " 'x37th.week',\n",
       " 'x38th.week',\n",
       " 'x39th.week',\n",
       " 'x40th.week',\n",
       " 'x41st.week',\n",
       " 'x42nd.week',\n",
       " 'x43rd.week',\n",
       " 'x44th.week',\n",
       " 'x45th.week',\n",
       " 'x46th.week',\n",
       " 'x47th.week',\n",
       " 'x48th.week',\n",
       " 'x49th.week',\n",
       " 'x50th.week',\n",
       " 'x51st.week',\n",
       " 'x52nd.week',\n",
       " 'x53rd.week',\n",
       " 'x54th.week',\n",
       " 'x55th.week',\n",
       " 'x56th.week',\n",
       " 'x57th.week',\n",
       " 'x58th.week',\n",
       " 'x59th.week',\n",
       " 'x60th.week',\n",
       " 'x61st.week',\n",
       " 'x62nd.week',\n",
       " 'x63rd.week',\n",
       " 'x64th.week',\n",
       " 'x65th.week',\n",
       " 'x66th.week',\n",
       " 'x67th.week',\n",
       " 'x68th.week',\n",
       " 'x69th.week',\n",
       " 'x70th.week',\n",
       " 'x71st.week',\n",
       " 'x72nd.week',\n",
       " 'x73rd.week',\n",
       " 'x74th.week',\n",
       " 'x75th.week',\n",
       " 'x76th.week']"
      ]
     },
     "execution_count": 36,
     "metadata": {},
     "output_type": "execute_result"
    }
   ],
   "source": [
    "billboard.columns"
   ]
  },
  {
   "cell_type": "code",
   "execution_count": 37,
   "metadata": {},
   "outputs": [
    {
     "name": "stdout",
     "output_type": "stream",
     "text": [
      "root\n",
      " |-- year: string (nullable = true)\n",
      " |-- artist.inverted: string (nullable = true)\n",
      " |-- track: string (nullable = true)\n",
      " |-- time: string (nullable = true)\n",
      " |-- genre: string (nullable = true)\n",
      " |-- date.entered: string (nullable = true)\n",
      " |-- date.peaked: string (nullable = true)\n",
      " |-- x1st.week: string (nullable = true)\n",
      " |-- x2nd.week: string (nullable = true)\n",
      " |-- x3rd.week: string (nullable = true)\n",
      " |-- x4th.week: string (nullable = true)\n",
      " |-- x5th.week: string (nullable = true)\n",
      " |-- x6th.week: string (nullable = true)\n",
      " |-- x7th.week: string (nullable = true)\n",
      " |-- x8th.week: string (nullable = true)\n",
      " |-- x9th.week: string (nullable = true)\n",
      " |-- x10th.week: string (nullable = true)\n",
      " |-- x11th.week: string (nullable = true)\n",
      " |-- x12th.week: string (nullable = true)\n",
      " |-- x13th.week: string (nullable = true)\n",
      " |-- x14th.week: string (nullable = true)\n",
      " |-- x15th.week: string (nullable = true)\n",
      " |-- x16th.week: string (nullable = true)\n",
      " |-- x17th.week: string (nullable = true)\n",
      " |-- x18th.week: string (nullable = true)\n",
      " |-- x19th.week: string (nullable = true)\n",
      " |-- x20th.week: string (nullable = true)\n",
      " |-- x21st.week: string (nullable = true)\n",
      " |-- x22nd.week: string (nullable = true)\n",
      " |-- x23rd.week: string (nullable = true)\n",
      " |-- x24th.week: string (nullable = true)\n",
      " |-- x25th.week: string (nullable = true)\n",
      " |-- x26th.week: string (nullable = true)\n",
      " |-- x27th.week: string (nullable = true)\n",
      " |-- x28th.week: string (nullable = true)\n",
      " |-- x29th.week: string (nullable = true)\n",
      " |-- x30th.week: string (nullable = true)\n",
      " |-- x31st.week: string (nullable = true)\n",
      " |-- x32nd.week: string (nullable = true)\n",
      " |-- x33rd.week: string (nullable = true)\n",
      " |-- x34th.week: string (nullable = true)\n",
      " |-- x35th.week: string (nullable = true)\n",
      " |-- x36th.week: string (nullable = true)\n",
      " |-- x37th.week: string (nullable = true)\n",
      " |-- x38th.week: string (nullable = true)\n",
      " |-- x39th.week: string (nullable = true)\n",
      " |-- x40th.week: string (nullable = true)\n",
      " |-- x41st.week: string (nullable = true)\n",
      " |-- x42nd.week: string (nullable = true)\n",
      " |-- x43rd.week: string (nullable = true)\n",
      " |-- x44th.week: string (nullable = true)\n",
      " |-- x45th.week: string (nullable = true)\n",
      " |-- x46th.week: string (nullable = true)\n",
      " |-- x47th.week: string (nullable = true)\n",
      " |-- x48th.week: string (nullable = true)\n",
      " |-- x49th.week: string (nullable = true)\n",
      " |-- x50th.week: string (nullable = true)\n",
      " |-- x51st.week: string (nullable = true)\n",
      " |-- x52nd.week: string (nullable = true)\n",
      " |-- x53rd.week: string (nullable = true)\n",
      " |-- x54th.week: string (nullable = true)\n",
      " |-- x55th.week: string (nullable = true)\n",
      " |-- x56th.week: string (nullable = true)\n",
      " |-- x57th.week: string (nullable = true)\n",
      " |-- x58th.week: string (nullable = true)\n",
      " |-- x59th.week: string (nullable = true)\n",
      " |-- x60th.week: string (nullable = true)\n",
      " |-- x61st.week: string (nullable = true)\n",
      " |-- x62nd.week: string (nullable = true)\n",
      " |-- x63rd.week: string (nullable = true)\n",
      " |-- x64th.week: string (nullable = true)\n",
      " |-- x65th.week: string (nullable = true)\n",
      " |-- x66th.week: string (nullable = true)\n",
      " |-- x67th.week: string (nullable = true)\n",
      " |-- x68th.week: string (nullable = true)\n",
      " |-- x69th.week: string (nullable = true)\n",
      " |-- x70th.week: string (nullable = true)\n",
      " |-- x71st.week: string (nullable = true)\n",
      " |-- x72nd.week: string (nullable = true)\n",
      " |-- x73rd.week: string (nullable = true)\n",
      " |-- x74th.week: string (nullable = true)\n",
      " |-- x75th.week: string (nullable = true)\n",
      " |-- x76th.week: string (nullable = true)\n",
      "\n"
     ]
    }
   ],
   "source": [
    "billboard.printSchema()"
   ]
  },
  {
   "cell_type": "code",
   "execution_count": 39,
   "metadata": {},
   "outputs": [],
   "source": [
    "billboard.createOrReplaceTempView(\"billboard\")"
   ]
  },
  {
   "cell_type": "code",
   "execution_count": 40,
   "metadata": {},
   "outputs": [
    {
     "name": "stdout",
     "output_type": "stream",
     "text": [
      "+----+-------------------+--------------------+----+-----+------------+-----------+---------+---------+---------+---------+---------+---------+---------+---------+---------+----------+----------+----------+----------+----------+----------+----------+----------+----------+----------+----------+----------+----------+----------+----------+----------+----------+----------+----------+----------+----------+----------+----------+----------+----------+----------+----------+----------+----------+----------+----------+----------+----------+----------+----------+----------+----------+----------+----------+----------+----------+----------+----------+----------+----------+----------+----------+----------+----------+----------+----------+----------+----------+----------+----------+----------+----------+----------+----------+----------+----------+----------+----------+----------+----------+----------+----------+\n",
      "|year|    artist.inverted|               track|time|genre|date.entered|date.peaked|x1st.week|x2nd.week|x3rd.week|x4th.week|x5th.week|x6th.week|x7th.week|x8th.week|x9th.week|x10th.week|x11th.week|x12th.week|x13th.week|x14th.week|x15th.week|x16th.week|x17th.week|x18th.week|x19th.week|x20th.week|x21st.week|x22nd.week|x23rd.week|x24th.week|x25th.week|x26th.week|x27th.week|x28th.week|x29th.week|x30th.week|x31st.week|x32nd.week|x33rd.week|x34th.week|x35th.week|x36th.week|x37th.week|x38th.week|x39th.week|x40th.week|x41st.week|x42nd.week|x43rd.week|x44th.week|x45th.week|x46th.week|x47th.week|x48th.week|x49th.week|x50th.week|x51st.week|x52nd.week|x53rd.week|x54th.week|x55th.week|x56th.week|x57th.week|x58th.week|x59th.week|x60th.week|x61st.week|x62nd.week|x63rd.week|x64th.week|x65th.week|x66th.week|x67th.week|x68th.week|x69th.week|x70th.week|x71st.week|x72nd.week|x73rd.week|x74th.week|x75th.week|x76th.week|\n",
      "+----+-------------------+--------------------+----+-----+------------+-----------+---------+---------+---------+---------+---------+---------+---------+---------+---------+----------+----------+----------+----------+----------+----------+----------+----------+----------+----------+----------+----------+----------+----------+----------+----------+----------+----------+----------+----------+----------+----------+----------+----------+----------+----------+----------+----------+----------+----------+----------+----------+----------+----------+----------+----------+----------+----------+----------+----------+----------+----------+----------+----------+----------+----------+----------+----------+----------+----------+----------+----------+----------+----------+----------+----------+----------+----------+----------+----------+----------+----------+----------+----------+----------+----------+----------+\n",
      "|2000|    Destiny's Child|Independent Women...|3:38| Rock|  2000-09-23| 2000-11-18|       78|       63|       49|       33|       23|       15|        7|        5|        1|         1|         1|         1|         1|         1|         1|         1|         1|         1|         1|         2|         3|         7|        10|        12|        15|        22|        29|        31|        NA|        NA|        NA|        NA|        NA|        NA|        NA|        NA|        NA|        NA|        NA|        NA|        NA|        NA|        NA|        NA|        NA|        NA|        NA|        NA|        NA|        NA|        NA|        NA|        NA|        NA|        NA|        NA|        NA|        NA|        NA|        NA|        NA|        NA|        NA|        NA|        NA|        NA|        NA|        NA|        NA|        NA|        NA|        NA|        NA|        NA|        NA|        NA|\n",
      "|2000|            Santana|        Maria, Maria|4:18| Rock|  2000-02-12| 2000-04-08|       15|        8|        6|        5|        2|        3|        2|        2|        1|         1|         1|         1|         1|         1|         1|         1|         1|         1|         8|        15|        19|        21|        26|        36|        48|        47|      null|        NA|        NA|        NA|        NA|        NA|        NA|        NA|        NA|        NA|        NA|        NA|        NA|        NA|        NA|        NA|        NA|        NA|        NA|        NA|        NA|        NA|        NA|        NA|        NA|        NA|        NA|        NA|        NA|        NA|        NA|        NA|        NA|        NA|        NA|        NA|        NA|        NA|        NA|        NA|        NA|        NA|        NA|        NA|        NA|        NA|        NA|        NA|        NA|        NA|\n",
      "|2000|      Savage Garden|  I Knew I Loved You|4:07| Rock|  1999-10-23| 2000-01-29|       71|       48|       43|       31|       20|       13|        7|        6|        4|         4|         4|         6|         4|         2|         1|         1|         1|         2|         1|         2|         4|         8|         8|        12|        14|        17|        21|        24|        30|        34|        37|        46|        47|        NA|        NA|        NA|        NA|        NA|        NA|        NA|        NA|        NA|        NA|        NA|        NA|        NA|        NA|        NA|        NA|        NA|        NA|        NA|        NA|        NA|        NA|        NA|        NA|        NA|        NA|        NA|        NA|        NA|        NA|        NA|        NA|        NA|        NA|        NA|        NA|        NA|        NA|        NA|        NA|        NA|        NA|        NA|\n",
      "|2000|            Madonna|               Music|3:45| Rock|  2000-08-12| 2000-09-16|       41|       23|       18|       14|        2|        1|        1|        1|        1|         2|         2|         2|         2|         2|         4|         8|        11|        16|        20|        25|        27|        27|        29|        44|      null|      null|      null|        NA|        NA|        NA|        NA|        NA|        NA|        NA|        NA|        NA|        NA|        NA|        NA|        NA|        NA|        NA|        NA|        NA|        NA|        NA|        NA|        NA|        NA|        NA|        NA|        NA|        NA|        NA|        NA|        NA|        NA|        NA|        NA|        NA|        NA|        NA|        NA|        NA|        NA|        NA|        NA|        NA|        NA|        NA|        NA|        NA|        NA|        NA|        NA|        NA|\n",
      "|2000|Aguilera, Christina|Come On Over Baby...|3:38| Rock|  2000-08-05| 2000-10-14|       57|       47|       45|       29|       23|       18|       11|        9|        9|        11|         1|         1|         1|         1|         4|         8|        12|        22|        23|        43|        44|        NA|        NA|        NA|      null|      null|      null|        NA|        NA|        NA|        NA|        NA|        NA|        NA|        NA|        NA|        NA|        NA|        NA|        NA|        NA|        NA|        NA|        NA|        NA|        NA|        NA|        NA|        NA|        NA|        NA|        NA|        NA|        NA|        NA|        NA|        NA|        NA|        NA|        NA|        NA|        NA|        NA|        NA|        NA|        NA|        NA|        NA|        NA|        NA|        NA|        NA|        NA|        NA|        NA|        NA|\n",
      "+----+-------------------+--------------------+----+-----+------------+-----------+---------+---------+---------+---------+---------+---------+---------+---------+---------+----------+----------+----------+----------+----------+----------+----------+----------+----------+----------+----------+----------+----------+----------+----------+----------+----------+----------+----------+----------+----------+----------+----------+----------+----------+----------+----------+----------+----------+----------+----------+----------+----------+----------+----------+----------+----------+----------+----------+----------+----------+----------+----------+----------+----------+----------+----------+----------+----------+----------+----------+----------+----------+----------+----------+----------+----------+----------+----------+----------+----------+----------+----------+----------+----------+----------+----------+\n",
      "only showing top 5 rows\n",
      "\n"
     ]
    }
   ],
   "source": [
    "spark.sql('select * from billboard').show(5)"
   ]
  },
  {
   "cell_type": "code",
   "execution_count": 44,
   "metadata": {},
   "outputs": [],
   "source": [
    "billboard = billboard.withColumnRenamed('artist.inverted', 'artist')"
   ]
  },
  {
   "cell_type": "code",
   "execution_count": 45,
   "metadata": {},
   "outputs": [
    {
     "data": {
      "text/plain": [
       "['year',\n",
       " 'artist',\n",
       " 'track',\n",
       " 'time',\n",
       " 'genre',\n",
       " 'date.entered',\n",
       " 'date.peaked',\n",
       " 'x1st.week',\n",
       " 'x2nd.week',\n",
       " 'x3rd.week',\n",
       " 'x4th.week',\n",
       " 'x5th.week',\n",
       " 'x6th.week',\n",
       " 'x7th.week',\n",
       " 'x8th.week',\n",
       " 'x9th.week',\n",
       " 'x10th.week',\n",
       " 'x11th.week',\n",
       " 'x12th.week',\n",
       " 'x13th.week',\n",
       " 'x14th.week',\n",
       " 'x15th.week',\n",
       " 'x16th.week',\n",
       " 'x17th.week',\n",
       " 'x18th.week',\n",
       " 'x19th.week',\n",
       " 'x20th.week',\n",
       " 'x21st.week',\n",
       " 'x22nd.week',\n",
       " 'x23rd.week',\n",
       " 'x24th.week',\n",
       " 'x25th.week',\n",
       " 'x26th.week',\n",
       " 'x27th.week',\n",
       " 'x28th.week',\n",
       " 'x29th.week',\n",
       " 'x30th.week',\n",
       " 'x31st.week',\n",
       " 'x32nd.week',\n",
       " 'x33rd.week',\n",
       " 'x34th.week',\n",
       " 'x35th.week',\n",
       " 'x36th.week',\n",
       " 'x37th.week',\n",
       " 'x38th.week',\n",
       " 'x39th.week',\n",
       " 'x40th.week',\n",
       " 'x41st.week',\n",
       " 'x42nd.week',\n",
       " 'x43rd.week',\n",
       " 'x44th.week',\n",
       " 'x45th.week',\n",
       " 'x46th.week',\n",
       " 'x47th.week',\n",
       " 'x48th.week',\n",
       " 'x49th.week',\n",
       " 'x50th.week',\n",
       " 'x51st.week',\n",
       " 'x52nd.week',\n",
       " 'x53rd.week',\n",
       " 'x54th.week',\n",
       " 'x55th.week',\n",
       " 'x56th.week',\n",
       " 'x57th.week',\n",
       " 'x58th.week',\n",
       " 'x59th.week',\n",
       " 'x60th.week',\n",
       " 'x61st.week',\n",
       " 'x62nd.week',\n",
       " 'x63rd.week',\n",
       " 'x64th.week',\n",
       " 'x65th.week',\n",
       " 'x66th.week',\n",
       " 'x67th.week',\n",
       " 'x68th.week',\n",
       " 'x69th.week',\n",
       " 'x70th.week',\n",
       " 'x71st.week',\n",
       " 'x72nd.week',\n",
       " 'x73rd.week',\n",
       " 'x74th.week',\n",
       " 'x75th.week',\n",
       " 'x76th.week']"
      ]
     },
     "execution_count": 45,
     "metadata": {},
     "output_type": "execute_result"
    }
   ],
   "source": [
    "billboard.columns"
   ]
  },
  {
   "cell_type": "code",
   "execution_count": 51,
   "metadata": {},
   "outputs": [
    {
     "name": "stdout",
     "output_type": "stream",
     "text": [
      "+----+--------------------+-------+\n",
      "|year|               track|  genre|\n",
      "+----+--------------------+-------+\n",
      "|2000|Independent Women...|   Rock|\n",
      "|2000|        Maria, Maria|   Rock|\n",
      "|2000|  I Knew I Loved You|   Rock|\n",
      "|2000|               Music|   Rock|\n",
      "|2000|Come On Over Baby...|   Rock|\n",
      "|2000|Doesn't Really Ma...|   Rock|\n",
      "|2000|         Say My Name|   Rock|\n",
      "|2000|         Be With You|  Latin|\n",
      "|2000|          Incomplete|   Rock|\n",
      "|2000|              Amazed|Country|\n",
      "|2000|    It's Gonna Be Me|   Rock|\n",
      "|2000|   What A Girl Wants|   Rock|\n",
      "|2000| Everything You Want|   Rock|\n",
      "|2000| With Arms Wide Open|   Rock|\n",
      "|2000|           Try Again|   Rock|\n",
      "|2000|                Bent|   Rock|\n",
      "|2000|Thank God I Found...|   Rock|\n",
      "|2000|             Breathe|    Rap|\n",
      "|2000|Case Of The Ex (W...|   Rock|\n",
      "|2000|      He Loves U Not|   Rock|\n",
      "+----+--------------------+-------+\n",
      "only showing top 20 rows\n",
      "\n"
     ]
    }
   ],
   "source": [
    "spark.sql('select year, track, genre from billboard').show()"
   ]
  },
  {
   "cell_type": "code",
   "execution_count": 52,
   "metadata": {},
   "outputs": [
    {
     "name": "stdout",
     "output_type": "stream",
     "text": [
      "+--------------------+----+-----+\n",
      "|               track|year|genre|\n",
      "+--------------------+----+-----+\n",
      "|  Bring It All To Me|2000|  Pop|\n",
      "|I Think I'm In Lo...|2000|  Pop|\n",
      "|Don't Say You Lov...|2000|  Pop|\n",
      "| I Wanna Be With You|2000|  Pop|\n",
      "| Another Dumb Blonde|2000|  Pop|\n",
      "|   I Will Love Again|2000|  Pop|\n",
      "|       Mirror Mirror|2000|  Pop|\n",
      "|      I'm Outta Love|2000|  Pop|\n",
      "|       Dancing Queen|2000|  Pop|\n",
      "+--------------------+----+-----+\n",
      "\n"
     ]
    }
   ],
   "source": [
    "spark.sql('select track, year, genre from billboard where genre = \"Pop\"').show()"
   ]
  },
  {
   "cell_type": "code",
   "execution_count": null,
   "metadata": {},
   "outputs": [],
   "source": []
  }
 ],
 "metadata": {
  "interpreter": {
   "hash": "843ed4014e0c5c9016b0be3f012b8ea5a0b4055cbc7abd39c785865cd85ff6da"
  },
  "kernelspec": {
   "display_name": "Python 3.9.7 ('base')",
   "language": "python",
   "name": "python3"
  },
  "language_info": {
   "codemirror_mode": {
    "name": "ipython",
    "version": 3
   },
   "file_extension": ".py",
   "mimetype": "text/x-python",
   "name": "python",
   "nbconvert_exporter": "python",
   "pygments_lexer": "ipython3",
   "version": "3.9.7"
  },
  "orig_nbformat": 4
 },
 "nbformat": 4,
 "nbformat_minor": 2
}
