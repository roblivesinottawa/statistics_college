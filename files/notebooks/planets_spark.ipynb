{
 "cells": [
  {
   "cell_type": "code",
   "execution_count": 1,
   "metadata": {},
   "outputs": [],
   "source": [
    "import findspark\n",
    "findspark.init()"
   ]
  },
  {
   "cell_type": "code",
   "execution_count": 2,
   "metadata": {},
   "outputs": [],
   "source": [
    "from pyspark import SparkContext\n",
    "from pyspark.sql import SparkSession"
   ]
  },
  {
   "cell_type": "code",
   "execution_count": 3,
   "metadata": {},
   "outputs": [
    {
     "name": "stderr",
     "output_type": "stream",
     "text": [
      "Using Spark's default log4j profile: org/apache/spark/log4j-defaults.properties\n",
      "Setting default log level to \"WARN\".\n",
      "To adjust logging level use sc.setLogLevel(newLevel). For SparkR, use setLogLevel(newLevel).\n",
      "22/03/30 13:41:02 WARN NativeCodeLoader: Unable to load native-hadoop library for your platform... using builtin-java classes where applicable\n",
      "22/03/30 13:41:03 WARN Utils: Service 'SparkUI' could not bind on port 4040. Attempting port 4041.\n",
      "22/03/30 13:41:03 WARN Utils: Service 'SparkUI' could not bind on port 4041. Attempting port 4042.\n",
      "22/03/30 13:41:03 WARN Utils: Service 'SparkUI' could not bind on port 4042. Attempting port 4043.\n",
      "22/03/30 13:41:03 WARN Utils: Service 'SparkUI' could not bind on port 4043. Attempting port 4044.\n",
      "22/03/30 13:41:03 WARN Utils: Service 'SparkUI' could not bind on port 4044. Attempting port 4045.\n",
      "22/03/30 13:41:03 WARN Utils: Service 'SparkUI' could not bind on port 4045. Attempting port 4046.\n",
      "22/03/30 13:41:03 WARN Utils: Service 'SparkUI' could not bind on port 4046. Attempting port 4047.\n",
      "22/03/30 13:41:03 WARN Utils: Service 'SparkUI' could not bind on port 4047. Attempting port 4048.\n"
     ]
    },
    {
     "data": {
      "text/html": [
       "\n",
       "        <div>\n",
       "            <p><b>SparkContext</b></p>\n",
       "\n",
       "            <p><a href=\"http://robsons-imac.lan:4048\">Spark UI</a></p>\n",
       "\n",
       "            <dl>\n",
       "              <dt>Version</dt>\n",
       "                <dd><code>v3.2.1</code></dd>\n",
       "              <dt>Master</dt>\n",
       "                <dd><code>local[*]</code></dd>\n",
       "              <dt>AppName</dt>\n",
       "                <dd><code>pyspark-shell</code></dd>\n",
       "            </dl>\n",
       "        </div>\n",
       "        "
      ],
      "text/plain": [
       "<SparkContext master=local[*] appName=pyspark-shell>"
      ]
     },
     "execution_count": 3,
     "metadata": {},
     "output_type": "execute_result"
    }
   ],
   "source": [
    "sc = SparkContext()\n",
    "sc"
   ]
  },
  {
   "cell_type": "code",
   "execution_count": 4,
   "metadata": {},
   "outputs": [
    {
     "data": {
      "text/html": [
       "\n",
       "            <div>\n",
       "                <p><b>SparkSession - in-memory</b></p>\n",
       "                \n",
       "        <div>\n",
       "            <p><b>SparkContext</b></p>\n",
       "\n",
       "            <p><a href=\"http://robsons-imac.lan:4048\">Spark UI</a></p>\n",
       "\n",
       "            <dl>\n",
       "              <dt>Version</dt>\n",
       "                <dd><code>v3.2.1</code></dd>\n",
       "              <dt>Master</dt>\n",
       "                <dd><code>local[*]</code></dd>\n",
       "              <dt>AppName</dt>\n",
       "                <dd><code>pyspark-shell</code></dd>\n",
       "            </dl>\n",
       "        </div>\n",
       "        \n",
       "            </div>\n",
       "        "
      ],
      "text/plain": [
       "<pyspark.sql.session.SparkSession at 0x7f927e206a00>"
      ]
     },
     "execution_count": 4,
     "metadata": {},
     "output_type": "execute_result"
    }
   ],
   "source": [
    "spark = SparkSession.builder.appName(\"Python Spark SQL basic example\").getOrCreate()\n",
    "spark"
   ]
  },
  {
   "cell_type": "code",
   "execution_count": 18,
   "metadata": {},
   "outputs": [],
   "source": [
    "df = spark.read.format(\"csv\") \\\n",
    "                .option(\"header\", \"true\") \\\n",
    "                .load(\"/Users/rob_the_programmer/Documents/programming/2022/statistics/statistics-python-workspace/files/other_formats/Planets_cleaned.csv\")\n",
    "                \n"
   ]
  },
  {
   "cell_type": "code",
   "execution_count": 19,
   "metadata": {},
   "outputs": [
    {
     "name": "stdout",
     "output_type": "stream",
     "text": [
      "+---+--------+-----------------+-------------+---------------------+--------------------------+---------------------+-----------------------+--------------------+-----------------------+---------------+------------+----------------------+------------------+------------------------+\n",
      "|_c0|  Planet|Mass   (10^24 kg)|Diameter (km)|Length of Day (hours)|Distance from Sun (106 km)|Orbital Period (days)|Orbital Velocity (km/s)|Mean Temperature (C)|Surface Pressure (bars)|Number of Moons|Ring System?|Global Magnetic Field?|Day of first visit|First successful mission|\n",
      "+---+--------+-----------------+-------------+---------------------+--------------------------+---------------------+-----------------------+--------------------+-----------------------+---------------+------------+----------------------+------------------+------------------------+\n",
      "|  0|MERCURY |             0.33|         4879|               4222.6|                      57.9|                 88.0|                   47.4|                 167|                      0|              0|          No|                   Yes|        1974-03-29|              Mariner 10|\n",
      "|  1|  VENUS |             4.87|        12104|               2802.0|                     108.2|                224.7|                   35.0|                 464|                     92|              0|          No|                    No|        1962-08-27|               Mariner 2|\n",
      "|  2|  EARTH |             5.97|        12756|                 24.0|                     149.6|                365.2|                   29.8|                  15|                      1|              1|          No|                   Yes|              null|                    null|\n",
      "|  3|   MOON |            0.073|         3475|                708.7|                    0.384*|                 27.3|                    1.0|                 -20|                      0|              0|          No|                    No|        1959-09-12|                  Luna 2|\n",
      "|  4|   MARS |            0.642|         6792|                 24.7|                     227.9|                687.0|                   24.1|                 -65|                   0.01|              2|          No|                    No|        1965-07-15|               Mariner 4|\n",
      "|  5|JUPITER |           1898.0|       142984|                  9.9|                     778.6|               4331.0|                   13.1|                -110|               Unknown*|             67|         Yes|                   Yes|        1973-12-04|              Pioneer 10|\n",
      "|  6| SATURN |            568.0|       120536|                 10.7|                    1433.5|              10747.0|                    9.7|                -140|               Unknown*|             62|         Yes|                   Yes|        1979-09-01|              Pioneer 11|\n",
      "|  7| URANUS |             86.8|        51118|                 17.2|                    2872.5|              30589.0|                    6.8|                -195|               Unknown*|             27|         Yes|                   Yes|        1986-01-24|               Voyager 2|\n",
      "|  8|NEPTUNE |            102.0|        49528|                 16.1|                    4495.1|              59800.0|                    5.4|                -200|               Unknown*|             14|         Yes|                   Yes|        1989-08-25|               Voyager 2|\n",
      "|  9|   PLUTO|           0.0146|         2370|                153.3|                    5906.4|              90560.0|                    4.7|                -225|                  1e-05|              5|          No|               Unknown|        2015-07-14|            New Horizons|\n",
      "+---+--------+-----------------+-------------+---------------------+--------------------------+---------------------+-----------------------+--------------------+-----------------------+---------------+------------+----------------------+------------------+------------------------+\n",
      "\n"
     ]
    },
    {
     "name": "stderr",
     "output_type": "stream",
     "text": [
      "22/03/30 14:06:50 WARN CSVHeaderChecker: CSV header does not conform to the schema.\n",
      " Header: , Planet, Mass   (10^24 kg), Diameter (km), Length of Day (hours), Distance from Sun (106 km), Orbital Period (days), Orbital Velocity (km/s), Mean Temperature (C), Surface Pressure (bars), Number of Moons, Ring System?, Global Magnetic Field?, Day of first visit, First successful mission\n",
      " Schema: _c0, Planet, Mass   (10^24 kg), Diameter (km), Length of Day (hours), Distance from Sun (106 km), Orbital Period (days), Orbital Velocity (km/s), Mean Temperature (C), Surface Pressure (bars), Number of Moons, Ring System?, Global Magnetic Field?, Day of first visit, First successful mission\n",
      "Expected: _c0 but found: \n",
      "CSV file: file:///Users/rob_the_programmer/Documents/programming/2022/statistics/statistics-python-workspace/files/other_formats/Planets_cleaned.csv\n"
     ]
    }
   ],
   "source": [
    "df.show(10)"
   ]
  },
  {
   "cell_type": "code",
   "execution_count": 20,
   "metadata": {},
   "outputs": [
    {
     "name": "stdout",
     "output_type": "stream",
     "text": [
      "root\n",
      " |-- _c0: string (nullable = true)\n",
      " |-- Planet: string (nullable = true)\n",
      " |-- Mass   (10^24 kg): string (nullable = true)\n",
      " |-- Diameter (km): string (nullable = true)\n",
      " |-- Length of Day (hours): string (nullable = true)\n",
      " |-- Distance from Sun (106 km): string (nullable = true)\n",
      " |-- Orbital Period (days): string (nullable = true)\n",
      " |-- Orbital Velocity (km/s): string (nullable = true)\n",
      " |-- Mean Temperature (C): string (nullable = true)\n",
      " |-- Surface Pressure (bars): string (nullable = true)\n",
      " |-- Number of Moons: string (nullable = true)\n",
      " |-- Ring System?: string (nullable = true)\n",
      " |-- Global Magnetic Field?: string (nullable = true)\n",
      " |-- Day of first visit: string (nullable = true)\n",
      " |-- First successful mission: string (nullable = true)\n",
      "\n"
     ]
    }
   ],
   "source": [
    "df.printSchema()"
   ]
  },
  {
   "cell_type": "code",
   "execution_count": 21,
   "metadata": {},
   "outputs": [
    {
     "data": {
      "text/plain": [
       "['_c0',\n",
       " 'Planet',\n",
       " 'Mass   (10^24 kg)',\n",
       " 'Diameter (km)',\n",
       " 'Length of Day\\xa0(hours)',\n",
       " 'Distance from Sun (106\\xa0km)',\n",
       " 'Orbital Period (days)',\n",
       " 'Orbital Velocity\\xa0(km/s)',\n",
       " 'Mean Temperature\\xa0(C)',\n",
       " 'Surface Pressure\\xa0(bars)',\n",
       " 'Number of Moons',\n",
       " 'Ring System?',\n",
       " 'Global Magnetic Field?',\n",
       " 'Day of first visit',\n",
       " 'First successful mission']"
      ]
     },
     "execution_count": 21,
     "metadata": {},
     "output_type": "execute_result"
    }
   ],
   "source": [
    "df.columns"
   ]
  },
  {
   "cell_type": "code",
   "execution_count": 24,
   "metadata": {},
   "outputs": [],
   "source": [
    "df = df.drop('_c0')"
   ]
  },
  {
   "cell_type": "code",
   "execution_count": 25,
   "metadata": {},
   "outputs": [
    {
     "data": {
      "text/plain": [
       "['Planet',\n",
       " 'Mass   (10^24 kg)',\n",
       " 'Diameter (km)',\n",
       " 'Length of Day\\xa0(hours)',\n",
       " 'Distance from Sun (106\\xa0km)',\n",
       " 'Orbital Period (days)',\n",
       " 'Orbital Velocity\\xa0(km/s)',\n",
       " 'Mean Temperature\\xa0(C)',\n",
       " 'Surface Pressure\\xa0(bars)',\n",
       " 'Number of Moons',\n",
       " 'Ring System?',\n",
       " 'Global Magnetic Field?',\n",
       " 'Day of first visit',\n",
       " 'First successful mission']"
      ]
     },
     "execution_count": 25,
     "metadata": {},
     "output_type": "execute_result"
    }
   ],
   "source": [
    "df.columns"
   ]
  },
  {
   "cell_type": "code",
   "execution_count": 26,
   "metadata": {},
   "outputs": [
    {
     "name": "stdout",
     "output_type": "stream",
     "text": [
      "+--------+-----------------+-------------+---------------------+--------------------------+---------------------+-----------------------+--------------------+-----------------------+---------------+------------+----------------------+------------------+------------------------+\n",
      "|  Planet|Mass   (10^24 kg)|Diameter (km)|Length of Day (hours)|Distance from Sun (106 km)|Orbital Period (days)|Orbital Velocity (km/s)|Mean Temperature (C)|Surface Pressure (bars)|Number of Moons|Ring System?|Global Magnetic Field?|Day of first visit|First successful mission|\n",
      "+--------+-----------------+-------------+---------------------+--------------------------+---------------------+-----------------------+--------------------+-----------------------+---------------+------------+----------------------+------------------+------------------------+\n",
      "|MERCURY |             0.33|         4879|               4222.6|                      57.9|                 88.0|                   47.4|                 167|                      0|              0|          No|                   Yes|        1974-03-29|              Mariner 10|\n",
      "+--------+-----------------+-------------+---------------------+--------------------------+---------------------+-----------------------+--------------------+-----------------------+---------------+------------+----------------------+------------------+------------------------+\n",
      "only showing top 1 row\n",
      "\n"
     ]
    },
    {
     "name": "stderr",
     "output_type": "stream",
     "text": [
      "                                                                                \r"
     ]
    }
   ],
   "source": [
    "df.show(1)"
   ]
  },
  {
   "cell_type": "code",
   "execution_count": null,
   "metadata": {},
   "outputs": [],
   "source": []
  }
 ],
 "metadata": {
  "interpreter": {
   "hash": "843ed4014e0c5c9016b0be3f012b8ea5a0b4055cbc7abd39c785865cd85ff6da"
  },
  "kernelspec": {
   "display_name": "Python 3.9.7 ('base')",
   "language": "python",
   "name": "python3"
  },
  "language_info": {
   "codemirror_mode": {
    "name": "ipython",
    "version": 3
   },
   "file_extension": ".py",
   "mimetype": "text/x-python",
   "name": "python",
   "nbconvert_exporter": "python",
   "pygments_lexer": "ipython3",
   "version": "3.9.7"
  },
  "orig_nbformat": 4
 },
 "nbformat": 4,
 "nbformat_minor": 2
}
